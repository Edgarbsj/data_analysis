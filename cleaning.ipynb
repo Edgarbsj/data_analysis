{
 "cells": [
  {
   "cell_type": "code",
   "execution_count": 139,
   "id": "3cd86541-8fa0-4072-bb29-52c3a5d9a83a",
   "metadata": {
    "tags": []
   },
   "outputs": [
    {
     "name": "stdout",
     "output_type": "stream",
     "text": [
      "<class 'pandas.core.frame.DataFrame'>\n",
      "Index: 22229 entries, 0 to 25951\n",
      "Data columns (total 6 columns):\n",
      " #   Column          Non-Null Count  Dtype  \n",
      "---  ------          --------------  -----  \n",
      " 0   N° da fatura    22229 non-null  object \n",
      " 1   Data da fatura  22229 non-null  object \n",
      " 2   ID Cliente      22229 non-null  float64\n",
      " 3   País            22229 non-null  object \n",
      " 4   Quantidade      22229 non-null  int64  \n",
      " 5   Valor           22229 non-null  object \n",
      "dtypes: float64(1), int64(1), object(4)\n",
      "memory usage: 1.2+ MB\n",
      "None\n"
     ]
    }
   ],
   "source": [
    "import pandas as pd\n",
    "\n",
    "df = pd.read_csv('vendas_por_fatura.csv')\n",
    "\n",
    "#tirando todas as linha com valores null\n",
    "df.dropna(inplace = True)\n",
    "\n",
    "#puxa as informacoes do arquivo\n",
    "print(df.info())"
   ]
  },
  {
   "cell_type": "code",
   "execution_count": 121,
   "id": "ac2c83d3-9c48-479d-82d8-ca762435738e",
   "metadata": {
    "tags": []
   },
   "outputs": [
    {
     "name": "stdout",
     "output_type": "stream",
     "text": [
      "  N° da fatura       Data da fatura  ID Cliente            País  Quantidade  \\\n",
      "0       548370   3/30/2021 16:14:00     15528.0  United Kingdom         123   \n",
      "1       575767  11/11/2021 11:11:00     17348.0  United Kingdom         163   \n",
      "2      C570727  10/12/2021 11:32:00     12471.0         Germany          -1   \n",
      "3       549106    4/6/2021 12:08:00     17045.0  United Kingdom           1   \n",
      "4       573112  10/27/2021 15:33:00     16416.0  United Kingdom         357   \n",
      "\n",
      "    Valor  \n",
      "0  229,33  \n",
      "1  209,73  \n",
      "2   -1,45  \n",
      "3   39,95  \n",
      "4  344,83  \n"
     ]
    }
   ],
   "source": [
    "#ter alguma nocao de como estão os dados\n",
    "print(df.head())"
   ]
  },
  {
   "cell_type": "code",
   "execution_count": 122,
   "id": "46c55c9c-a6f2-469f-97da-f37fa31b27e6",
   "metadata": {
    "tags": []
   },
   "outputs": [
    {
     "name": "stdout",
     "output_type": "stream",
     "text": [
      "0        548370\n",
      "1        575767\n",
      "3        549106\n",
      "4        573112\n",
      "5        576630\n",
      "          ...  \n",
      "25945    579252\n",
      "25946    574908\n",
      "25949    553060\n",
      "25950    577049\n",
      "25951    550122\n",
      "Name: N° da fatura, Length: 18570, dtype: object\n"
     ]
    }
   ],
   "source": [
    "#tratar a coluna N° da fatura\n",
    "\n",
    "#removendo espaços em branco extras\n",
    "df['N° da fatura'] = df['N° da fatura'].str.strip()\n",
    "\n",
    "#verificar a integridade dos dados (se todos têm 6 dígitos)\n",
    "mask = df['N° da fatura'].str.len() == 6\n",
    "df = df[mask]\n",
    "\n",
    "# />/ converter para string (se necessário)\n",
    "# >>> df['N° da fatura'] = df['N° da fatura'].astype(str)\n",
    "\n",
    "#exibir o resultado da coluna\n",
    "print(df['N° da fatura'])"
   ]
  },
  {
   "cell_type": "code",
   "execution_count": 123,
   "id": "58c01710-ac41-4e39-98dc-8778d05392cf",
   "metadata": {
    "tags": []
   },
   "outputs": [
    {
     "name": "stdout",
     "output_type": "stream",
     "text": [
      "0       2021-03-30 16:14:00\n",
      "1       2021-11-11 11:11:00\n",
      "3       2021-04-06 12:08:00\n",
      "4       2021-10-27 15:33:00\n",
      "5       2021-11-16 08:38:00\n",
      "                ...        \n",
      "25945   2021-11-28 16:47:00\n",
      "25946   2021-11-07 15:37:00\n",
      "25949   2021-05-13 10:44:00\n",
      "25950   2021-11-17 13:58:00\n",
      "25951   2021-04-14 12:39:00\n",
      "Name: Data da fatura, Length: 18570, dtype: datetime64[ns]\n"
     ]
    }
   ],
   "source": [
    "#tratar a coluna Data da fatura\n",
    "\n",
    "#converter a coluna para datetime\n",
    "df['Data da fatura'] = pd.to_datetime(df['Data da fatura'])\n",
    "print(df['Data da fatura'])"
   ]
  },
  {
   "cell_type": "code",
   "execution_count": 148,
   "id": "a1433795-d041-42f8-8ee0-e4cde7c28c3b",
   "metadata": {
    "tags": []
   },
   "outputs": [
    {
     "name": "stdout",
     "output_type": "stream",
     "text": [
      "0        15528\n",
      "1        17348\n",
      "2        12471\n",
      "3        17045\n",
      "4        16416\n",
      "         ...  \n",
      "25947    18218\n",
      "25948    16794\n",
      "25949    15826\n",
      "25950    17397\n",
      "25951    12931\n",
      "Name: ID Cliente, Length: 22229, dtype: object\n"
     ]
    }
   ],
   "source": [
    "# tratar a coluna id cliente\n",
    "\n",
    "#converter em string\n",
    "df['ID Cliente'] = df['ID Cliente'].astype(str)\n",
    "\n",
    "#retirando tudo o que vem depois do ponto e o próprio ponto\n",
    "df['ID Cliente'] = df['ID Cliente'].str.split('.').str[0]\n",
    "\n",
    "#substituir valores vazios por NaN\n",
    "df['ID Cliente'].replace('', pd.NA, inplace=True)\n",
    "\n",
    "#remover linhas com valores NaN\n",
    "df.dropna(subset=['ID Cliente'], inplace=True)\n",
    "\n",
    "#remover duplicatas baseadas na coluna 'valor'\n",
    "df.drop_duplicates(subset=['ID Cliente'])\n",
    "\n",
    "#exibir o DataFrame resultante\n",
    "print(df['ID Cliente'])\n"
   ]
  },
  {
   "cell_type": "code",
   "execution_count": 112,
   "id": "5531e0b6-a377-4f03-927d-6a8994c8a168",
   "metadata": {
    "tags": []
   },
   "outputs": [
    {
     "name": "stdout",
     "output_type": "stream",
     "text": [
      "País\n",
      "United Kingdom          16679\n",
      "Germany                   457\n",
      "France                    390\n",
      "EIRE                      262\n",
      "Belgium                    98\n",
      "Netherlands                95\n",
      "Spain                      90\n",
      "Australia                  57\n",
      "Portugal                   57\n",
      "Switzerland                51\n",
      "Finland                    41\n",
      "Italy                      38\n",
      "Sweden                     36\n",
      "Norway                     36\n",
      "Channel Islands            26\n",
      "Japan                      20\n",
      "Poland                     19\n",
      "Denmark                    18\n",
      "Austria                    17\n",
      "Cyprus                     16\n",
      "Unspecified                 8\n",
      "Singapore                   7\n",
      "Iceland                     7\n",
      "Canada                      6\n",
      "Israel                      5\n",
      "Greece                      5\n",
      "Malta                       5\n",
      "USA                         5\n",
      "European Community          4\n",
      "Lithuania                   4\n",
      "United Arab Emirates        3\n",
      "Czech Republic              2\n",
      "Bahrain                     2\n",
      "Lebanon                     1\n",
      "Brazil                      1\n",
      "RSA                         1\n",
      "Saudi Arabia                1\n",
      "Name: count, dtype: int64\n"
     ]
    }
   ],
   "source": [
    "# tratar a coluna País\n",
    "\n",
    "#criar uma variavel agrupando as vezes que eles aparece\n",
    "contagem_paises = df['País'].value_counts()\n",
    "\n",
    "# Eliminar linhas com países específicos:\n",
    "#>>> df = df[df['País'] != 'Desconhecido']\n",
    "print(contagem_paises)"
   ]
  },
  {
   "cell_type": "code",
   "execution_count": 113,
   "id": "26b0bae2-9e89-42eb-bbf2-e20d835395cd",
   "metadata": {
    "tags": []
   },
   "outputs": [
    {
     "name": "stdout",
     "output_type": "stream",
     "text": [
      "Quantidade\n",
      "1       196\n",
      "12      190\n",
      "24      185\n",
      "48      151\n",
      "72      136\n",
      "       ... \n",
      "2893      1\n",
      "896       1\n",
      "991       1\n",
      "1624      1\n",
      "929       1\n",
      "Name: count, Length: 1394, dtype: int64\n"
     ]
    }
   ],
   "source": [
    "# tratar a coluna Quantidade\n",
    "\n",
    "#eliminar todas as linhas onde a quantidade é menor que zero:\n",
    "df = df[df['Quantidade'] >= 0]\n",
    "print(df['Quantidade'].value_counts())"
   ]
  },
  {
   "cell_type": "code",
   "execution_count": 114,
   "id": "29566155-ce03-4f39-ac0c-59c9a8ebe62a",
   "metadata": {
    "tags": []
   },
   "outputs": [
    {
     "name": "stdout",
     "output_type": "stream",
     "text": [
      "0        229,33\n",
      "1        209,73\n",
      "3         39,95\n",
      "4        344,83\n",
      "5        199,98\n",
      "          ...  \n",
      "25945    1034,4\n",
      "25946     82,76\n",
      "25949       720\n",
      "25950    298,78\n",
      "25951      1488\n",
      "Name: Valor, Length: 18570, dtype: object\n"
     ]
    }
   ],
   "source": [
    "# tratar a coluna Valor\n",
    "print(df['Valor'])"
   ]
  },
  {
   "cell_type": "code",
   "execution_count": 115,
   "id": "619a9dad-4ea6-44f1-832a-289be8a14268",
   "metadata": {
    "tags": []
   },
   "outputs": [
    {
     "name": "stdout",
     "output_type": "stream",
     "text": [
      "0         229.33\n",
      "1         209.73\n",
      "3          39.95\n",
      "4         344.83\n",
      "5         199.98\n",
      "          ...   \n",
      "25945    1034.40\n",
      "25946      82.76\n",
      "25949     720.00\n",
      "25950     298.78\n",
      "25951    1488.00\n",
      "Name: Valor, Length: 18570, dtype: float64\n"
     ]
    }
   ],
   "source": [
    "#convertendo para string\n",
    "df['Valor'] = df['Valor'].astype(str)\n",
    "\n",
    "#transformando os as vergulas em ponto\n",
    "df['Valor'] = df['Valor'].str.replace(',', '.')\n",
    "\n",
    "#convertendo a coluna em typo float\n",
    "df['Valor'] = df['Valor'].astype(float)\n",
    "\n",
    "#percorrer a coluna 'valor' e tranformar em 0 todos os numeros negativos\n",
    "for x in df.index:\n",
    "    if df.loc[x, \"Valor\"] < 0:\n",
    "        df.loc[x, \"Valor\"] = 0\n",
    "\n",
    "print(df['Valor'])"
   ]
  },
  {
   "cell_type": "code",
   "execution_count": 146,
   "id": "7d72f63c-e556-4996-9d7c-e5d2e97be222",
   "metadata": {
    "tags": []
   },
   "outputs": [
    {
     "name": "stdout",
     "output_type": "stream",
     "text": [
      "<class 'pandas.core.frame.DataFrame'>\n",
      "Index: 22229 entries, 0 to 25951\n",
      "Data columns (total 6 columns):\n",
      " #   Column          Non-Null Count  Dtype \n",
      "---  ------          --------------  ----- \n",
      " 0   N° da fatura    22229 non-null  object\n",
      " 1   Data da fatura  22229 non-null  object\n",
      " 2   ID Cliente      22229 non-null  object\n",
      " 3   País            22229 non-null  object\n",
      " 4   Quantidade      22229 non-null  int64 \n",
      " 5   Valor           22229 non-null  object\n",
      "dtypes: int64(1), object(5)\n",
      "memory usage: 1.2+ MB\n",
      "None\n"
     ]
    }
   ],
   "source": [
    "print(df.info())"
   ]
  },
  {
   "cell_type": "code",
   "execution_count": 117,
   "id": "df0b6ea6-1df0-4221-8cc3-1bc24374547a",
   "metadata": {
    "tags": []
   },
   "outputs": [
    {
     "name": "stdout",
     "output_type": "stream",
     "text": [
      "0        229,33\n",
      "1        209,73\n",
      "3         39,95\n",
      "4        344,83\n",
      "5        199,98\n",
      "          ...  \n",
      "25945    1034,4\n",
      "25946     82,76\n",
      "25949     720,0\n",
      "25950    298,78\n",
      "25951    1488,0\n",
      "Name: Valor, Length: 18566, dtype: object\n"
     ]
    }
   ],
   "source": [
    "#antes de salvar é bom converter a coluna 'valor' em string\n",
    "#reverter os pontos e por virgula novamente\n",
    "df['Valor'] = df['Valor'].astype(str)\n",
    "df['Valor'] = df['Valor'].str.replace('.', ',')\n",
    "print(df['Valor'])\n",
    "\n",
    "#salvando o arquivo em csv com as alteracoes feita\n",
    "df.to_csv('arquivo_limpo.csv', index=False)  # index=False para não incluir o índice do DataFrame no arquivo CSV"
   ]
  }
 ],
 "metadata": {
  "kernelspec": {
   "display_name": "Python 3 (ipykernel)",
   "language": "python",
   "name": "python3"
  },
  "language_info": {
   "codemirror_mode": {
    "name": "ipython",
    "version": 3
   },
   "file_extension": ".py",
   "mimetype": "text/x-python",
   "name": "python",
   "nbconvert_exporter": "python",
   "pygments_lexer": "ipython3",
   "version": "3.11.5"
  }
 },
 "nbformat": 4,
 "nbformat_minor": 5
}
